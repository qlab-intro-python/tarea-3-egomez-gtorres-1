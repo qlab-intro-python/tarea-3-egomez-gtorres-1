{
 "cells": [
  {
   "cell_type": "markdown",
   "metadata": {},
   "source": [
    "# **Tarea Nº 3**\n",
    "Scope: If, Loops, Functions"
   ]
  },
  {
   "cell_type": "code",
   "execution_count": 26,
   "metadata": {},
   "outputs": [],
   "source": [
    "# Calificación: 18.5"
   ]
  },
  {
   "cell_type": "code",
   "execution_count": 25,
   "metadata": {},
   "outputs": [],
   "source": [
    "# Overall, nice job. However, the last 3 questions were running over the original datasets instead of the cleansed ones.\n",
    "# Because of this: -0.5"
   ]
  },
  {
   "cell_type": "markdown",
   "metadata": {},
   "source": [
    "Curso:          Fundamentos de Programación en Python para Macroeconomía y Finanzas     \n",
    "Profesor:       Victor Fuentes Campos     "
   ]
  },
  {
   "cell_type": "markdown",
   "metadata": {},
   "source": [
    "- Fecha y hora de entrega: Miércoles 10 de enero, 11:59am\n",
    "- Agregue los nombres de las personas con las que discutió esta tarea: ____ Elías Gómez y Gustavo Torres ______\n",
    "- Envíe su tarea haciendo el `push` de su código a su repo en GitHub Classroom: "
   ]
  },
  {
   "cell_type": "markdown",
   "metadata": {},
   "source": [
    "As of 2022 Q2, there are almost 3.5 million Andriod apps on Google Play and 1.6 million iOS apps on the App Store, and counting. Giving the digital revolution, there is an increase interest in investment opportunities in this sector\n",
    "\n",
    "<img src=\"popular_app_stores.png\" max-width=\"300\">\n",
    "\n",
    "Under this context, you will assess a financial committee interested in investing in software development. The goal is to determine the kinds of apps that are likely to attract more users because the number of people using our apps affect our revenue. For this purpose, you will access to data from Google Play and App Store.\n",
    "\n",
    "- Google Play: you can dowload the dataset containing approximately 11k Android apps from [this link](https://dq-content.s3.amazonaws.com/350/googleplaystore.csv). It was collected in August 2018\n",
    "- App Store: you can dowload the dataset containing roughly 7k iOS apps from [this link](https://dq-content.s3.amazonaws.com/350/AppleStore.csv). It was collected in July 2017"
   ]
  },
  {
   "cell_type": "code",
   "execution_count": 1,
   "metadata": {},
   "outputs": [],
   "source": [
    "import numpy as np\n",
    "import pandas as pd\n",
    "import csv"
   ]
  },
  {
   "cell_type": "markdown",
   "metadata": {},
   "source": [
    "## Exploring data"
   ]
  },
  {
   "cell_type": "markdown",
   "metadata": {},
   "source": [
    "1. Open the two datasets we mentioned above, and save both as lists of lists"
   ]
  },
  {
   "cell_type": "code",
   "execution_count": 2,
   "metadata": {},
   "outputs": [],
   "source": [
    "# Solution\n",
    "AS = pd.read_csv('AppleStore.csv', sep=',')\n",
    "GPS= pd.read_csv('googleplaystore.csv', sep=',')"
   ]
  },
  {
   "cell_type": "code",
   "execution_count": 3,
   "metadata": {},
   "outputs": [
    {
     "data": {
      "text/plain": [
       "Index(['id', 'track_name', 'size_bytes', 'currency', 'price',\n",
       "       'rating_count_tot', 'rating_count_ver', 'user_rating',\n",
       "       'user_rating_ver', 'ver', 'cont_rating', 'prime_genre',\n",
       "       'sup_devices.num', 'ipadSc_urls.num', 'lang.num', 'vpp_lic'],\n",
       "      dtype='object')"
      ]
     },
     "execution_count": 3,
     "metadata": {},
     "output_type": "execute_result"
    }
   ],
   "source": [
    "AS.columns"
   ]
  },
  {
   "cell_type": "code",
   "execution_count": 4,
   "metadata": {},
   "outputs": [
    {
     "data": {
      "text/plain": [
       "Index(['App', 'Category', 'Rating', 'Reviews', 'Size', 'Installs', 'Type',\n",
       "       'Price', 'Content Rating', 'Genres', 'Last Updated', 'Current Ver',\n",
       "       'Android Ver'],\n",
       "      dtype='object')"
      ]
     },
     "execution_count": 4,
     "metadata": {},
     "output_type": "execute_result"
    }
   ],
   "source": [
    "GPS.columns"
   ]
  },
  {
   "cell_type": "markdown",
   "metadata": {},
   "source": [
    "2. Print the first few rows of each dataset and find the number of rows and columns of each dataset"
   ]
  },
  {
   "cell_type": "code",
   "execution_count": 6,
   "metadata": {
    "scrolled": true
   },
   "outputs": [
    {
     "name": "stdout",
     "output_type": "stream",
     "text": [
      "Number of rows Apple:  7197\n",
      "Number of columns Apple:  16\n"
     ]
    },
    {
     "data": {
      "text/html": [
       "<div>\n",
       "<style scoped>\n",
       "    .dataframe tbody tr th:only-of-type {\n",
       "        vertical-align: middle;\n",
       "    }\n",
       "\n",
       "    .dataframe tbody tr th {\n",
       "        vertical-align: top;\n",
       "    }\n",
       "\n",
       "    .dataframe thead th {\n",
       "        text-align: right;\n",
       "    }\n",
       "</style>\n",
       "<table border=\"1\" class=\"dataframe\">\n",
       "  <thead>\n",
       "    <tr style=\"text-align: right;\">\n",
       "      <th></th>\n",
       "      <th>id</th>\n",
       "      <th>track_name</th>\n",
       "      <th>size_bytes</th>\n",
       "      <th>currency</th>\n",
       "      <th>price</th>\n",
       "      <th>rating_count_tot</th>\n",
       "      <th>rating_count_ver</th>\n",
       "      <th>user_rating</th>\n",
       "      <th>user_rating_ver</th>\n",
       "      <th>ver</th>\n",
       "      <th>cont_rating</th>\n",
       "      <th>prime_genre</th>\n",
       "      <th>sup_devices.num</th>\n",
       "      <th>ipadSc_urls.num</th>\n",
       "      <th>lang.num</th>\n",
       "      <th>vpp_lic</th>\n",
       "    </tr>\n",
       "  </thead>\n",
       "  <tbody>\n",
       "    <tr>\n",
       "      <th>0</th>\n",
       "      <td>284882215</td>\n",
       "      <td>Facebook</td>\n",
       "      <td>389879808</td>\n",
       "      <td>USD</td>\n",
       "      <td>0.0</td>\n",
       "      <td>2974676</td>\n",
       "      <td>212</td>\n",
       "      <td>3.5</td>\n",
       "      <td>3.5</td>\n",
       "      <td>95.0</td>\n",
       "      <td>4+</td>\n",
       "      <td>Social Networking</td>\n",
       "      <td>37</td>\n",
       "      <td>1</td>\n",
       "      <td>29</td>\n",
       "      <td>1</td>\n",
       "    </tr>\n",
       "    <tr>\n",
       "      <th>1</th>\n",
       "      <td>389801252</td>\n",
       "      <td>Instagram</td>\n",
       "      <td>113954816</td>\n",
       "      <td>USD</td>\n",
       "      <td>0.0</td>\n",
       "      <td>2161558</td>\n",
       "      <td>1289</td>\n",
       "      <td>4.5</td>\n",
       "      <td>4.0</td>\n",
       "      <td>10.23</td>\n",
       "      <td>12+</td>\n",
       "      <td>Photo &amp; Video</td>\n",
       "      <td>37</td>\n",
       "      <td>0</td>\n",
       "      <td>29</td>\n",
       "      <td>1</td>\n",
       "    </tr>\n",
       "    <tr>\n",
       "      <th>2</th>\n",
       "      <td>529479190</td>\n",
       "      <td>Clash of Clans</td>\n",
       "      <td>116476928</td>\n",
       "      <td>USD</td>\n",
       "      <td>0.0</td>\n",
       "      <td>2130805</td>\n",
       "      <td>579</td>\n",
       "      <td>4.5</td>\n",
       "      <td>4.5</td>\n",
       "      <td>9.24.12</td>\n",
       "      <td>9+</td>\n",
       "      <td>Games</td>\n",
       "      <td>38</td>\n",
       "      <td>5</td>\n",
       "      <td>18</td>\n",
       "      <td>1</td>\n",
       "    </tr>\n",
       "  </tbody>\n",
       "</table>\n",
       "</div>"
      ],
      "text/plain": [
       "          id      track_name  size_bytes currency  price  rating_count_tot  \\\n",
       "0  284882215        Facebook   389879808      USD    0.0           2974676   \n",
       "1  389801252       Instagram   113954816      USD    0.0           2161558   \n",
       "2  529479190  Clash of Clans   116476928      USD    0.0           2130805   \n",
       "\n",
       "   rating_count_ver  user_rating  user_rating_ver      ver cont_rating  \\\n",
       "0               212          3.5              3.5     95.0          4+   \n",
       "1              1289          4.5              4.0    10.23         12+   \n",
       "2               579          4.5              4.5  9.24.12          9+   \n",
       "\n",
       "         prime_genre  sup_devices.num  ipadSc_urls.num  lang.num  vpp_lic  \n",
       "0  Social Networking               37                1        29        1  \n",
       "1      Photo & Video               37                0        29        1  \n",
       "2              Games               38                5        18        1  "
      ]
     },
     "execution_count": 6,
     "metadata": {},
     "output_type": "execute_result"
    }
   ],
   "source": [
    "print(\"Number of rows Apple: \", AS.shape[0])\n",
    "print(\"Number of columns Apple: \", AS.shape[1])\n",
    "AS.head(3)"
   ]
  },
  {
   "cell_type": "code",
   "execution_count": 7,
   "metadata": {},
   "outputs": [
    {
     "name": "stdout",
     "output_type": "stream",
     "text": [
      "Number of rows Play store:  10841\n",
      "Number of columns Play Store:  13\n"
     ]
    },
    {
     "data": {
      "text/html": [
       "<div>\n",
       "<style scoped>\n",
       "    .dataframe tbody tr th:only-of-type {\n",
       "        vertical-align: middle;\n",
       "    }\n",
       "\n",
       "    .dataframe tbody tr th {\n",
       "        vertical-align: top;\n",
       "    }\n",
       "\n",
       "    .dataframe thead th {\n",
       "        text-align: right;\n",
       "    }\n",
       "</style>\n",
       "<table border=\"1\" class=\"dataframe\">\n",
       "  <thead>\n",
       "    <tr style=\"text-align: right;\">\n",
       "      <th></th>\n",
       "      <th>App</th>\n",
       "      <th>Category</th>\n",
       "      <th>Rating</th>\n",
       "      <th>Reviews</th>\n",
       "      <th>Size</th>\n",
       "      <th>Installs</th>\n",
       "      <th>Type</th>\n",
       "      <th>Price</th>\n",
       "      <th>Content Rating</th>\n",
       "      <th>Genres</th>\n",
       "      <th>Last Updated</th>\n",
       "      <th>Current Ver</th>\n",
       "      <th>Android Ver</th>\n",
       "    </tr>\n",
       "  </thead>\n",
       "  <tbody>\n",
       "    <tr>\n",
       "      <th>0</th>\n",
       "      <td>Photo Editor &amp; Candy Camera &amp; Grid &amp; ScrapBook</td>\n",
       "      <td>ART_AND_DESIGN</td>\n",
       "      <td>4.1</td>\n",
       "      <td>159</td>\n",
       "      <td>19M</td>\n",
       "      <td>10,000+</td>\n",
       "      <td>Free</td>\n",
       "      <td>0</td>\n",
       "      <td>Everyone</td>\n",
       "      <td>Art &amp; Design</td>\n",
       "      <td>January 7, 2018</td>\n",
       "      <td>1.0.0</td>\n",
       "      <td>4.0.3 and up</td>\n",
       "    </tr>\n",
       "    <tr>\n",
       "      <th>1</th>\n",
       "      <td>Coloring book moana</td>\n",
       "      <td>ART_AND_DESIGN</td>\n",
       "      <td>3.9</td>\n",
       "      <td>967</td>\n",
       "      <td>14M</td>\n",
       "      <td>500,000+</td>\n",
       "      <td>Free</td>\n",
       "      <td>0</td>\n",
       "      <td>Everyone</td>\n",
       "      <td>Art &amp; Design;Pretend Play</td>\n",
       "      <td>January 15, 2018</td>\n",
       "      <td>2.0.0</td>\n",
       "      <td>4.0.3 and up</td>\n",
       "    </tr>\n",
       "    <tr>\n",
       "      <th>2</th>\n",
       "      <td>U Launcher Lite – FREE Live Cool Themes, Hide ...</td>\n",
       "      <td>ART_AND_DESIGN</td>\n",
       "      <td>4.7</td>\n",
       "      <td>87510</td>\n",
       "      <td>8.7M</td>\n",
       "      <td>5,000,000+</td>\n",
       "      <td>Free</td>\n",
       "      <td>0</td>\n",
       "      <td>Everyone</td>\n",
       "      <td>Art &amp; Design</td>\n",
       "      <td>August 1, 2018</td>\n",
       "      <td>1.2.4</td>\n",
       "      <td>4.0.3 and up</td>\n",
       "    </tr>\n",
       "  </tbody>\n",
       "</table>\n",
       "</div>"
      ],
      "text/plain": [
       "                                                 App        Category  Rating  \\\n",
       "0     Photo Editor & Candy Camera & Grid & ScrapBook  ART_AND_DESIGN     4.1   \n",
       "1                                Coloring book moana  ART_AND_DESIGN     3.9   \n",
       "2  U Launcher Lite – FREE Live Cool Themes, Hide ...  ART_AND_DESIGN     4.7   \n",
       "\n",
       "  Reviews  Size    Installs  Type Price Content Rating  \\\n",
       "0     159   19M     10,000+  Free     0       Everyone   \n",
       "1     967   14M    500,000+  Free     0       Everyone   \n",
       "2   87510  8.7M  5,000,000+  Free     0       Everyone   \n",
       "\n",
       "                      Genres      Last Updated Current Ver   Android Ver  \n",
       "0               Art & Design   January 7, 2018       1.0.0  4.0.3 and up  \n",
       "1  Art & Design;Pretend Play  January 15, 2018       2.0.0  4.0.3 and up  \n",
       "2               Art & Design    August 1, 2018       1.2.4  4.0.3 and up  "
      ]
     },
     "execution_count": 7,
     "metadata": {},
     "output_type": "execute_result"
    }
   ],
   "source": [
    "print(\"Number of rows Play store: \", GPS.shape[0])\n",
    "print(\"Number of columns Play Store: \", GPS.shape[1])\n",
    "GPS.head(3)"
   ]
  },
  {
   "cell_type": "markdown",
   "metadata": {},
   "source": [
    "For more info about the columns in the App Store dataset, visit [this link](https://www.kaggle.com/datasets/ramamet4/app-store-apple-data-set-10k-apps?select=AppleStore.csv)"
   ]
  },
  {
   "cell_type": "markdown",
   "metadata": {},
   "source": [
    "## Preparing data"
   ]
  },
  {
   "cell_type": "markdown",
   "metadata": {},
   "source": [
    "3. As noted before in the [discussion forum](https://www.kaggle.com/datasets/lava18/google-play-store-apps/discussion/66015), there is an error in the Google Play dataset. Please, remove the entry 10472 and explain shortly why"
   ]
  },
  {
   "cell_type": "code",
   "execution_count": 8,
   "metadata": {},
   "outputs": [
    {
     "data": {
      "text/plain": [
       "App                  0\n",
       "Category             0\n",
       "Rating            1474\n",
       "Reviews              0\n",
       "Size                 0\n",
       "Installs             0\n",
       "Type                 1\n",
       "Price                0\n",
       "Content Rating       1\n",
       "Genres               0\n",
       "Last Updated         0\n",
       "Current Ver          8\n",
       "Android Ver          3\n",
       "dtype: int64"
      ]
     },
     "execution_count": 8,
     "metadata": {},
     "output_type": "execute_result"
    }
   ],
   "source": [
    "GPS.isnull().sum()"
   ]
  },
  {
   "cell_type": "code",
   "execution_count": 9,
   "metadata": {},
   "outputs": [
    {
     "name": "stdout",
     "output_type": "stream",
     "text": [
      "App               Life Made WI-Fi Touchscreen Photo Frame\n",
      "Category                                              1.9\n",
      "Rating                                               19.0\n",
      "Reviews                                              3.0M\n",
      "Size                                               1,000+\n",
      "Installs                                             Free\n",
      "Type                                                    0\n",
      "Price                                            Everyone\n",
      "Content Rating                                        NaN\n",
      "Genres                                  February 11, 2018\n",
      "Last Updated                                       1.0.19\n",
      "Current Ver                                    4.0 and up\n",
      "Android Ver                                           NaN\n",
      "Name: 10472, dtype: object\n"
     ]
    }
   ],
   "source": [
    "# Solution\n",
    "print(GPS.loc[10472])\n",
    "#Se elimina la entrada debido a que cuenta con un missing value que hace que los datos estén desordenados, esto se puede apreciar al momento de aplicar el comando print.\n",
    "GPS.drop(10472, inplace=True) #Por ello, se procede a eliminar la entrada\n",
    "# Adicionalmente los demás missing value se pueden tratar mediante la imputación de datos, pero la indicación es que se elimine, probablemente al missing value en la característica Content Rating, que podría ser una variable objetivo en un análisis futuro."
   ]
  },
  {
   "cell_type": "markdown",
   "metadata": {},
   "source": [
    "4. Count the number of duplicates in the Google Play dataset. You must build a function to loop through the Google Play dataset"
   ]
  },
  {
   "cell_type": "code",
   "execution_count": 10,
   "metadata": {},
   "outputs": [
    {
     "name": "stdout",
     "output_type": "stream",
     "text": [
      "0        False\n",
      "1        False\n",
      "2        False\n",
      "3        False\n",
      "4        False\n",
      "         ...  \n",
      "10836    False\n",
      "10837    False\n",
      "10838    False\n",
      "10839    False\n",
      "10840    False\n",
      "Length: 10840, dtype: bool\n"
     ]
    }
   ],
   "source": [
    "duplicated_gps = GPS.duplicated(subset='App')\n",
    "print(duplicated_gps)"
   ]
  },
  {
   "cell_type": "code",
   "execution_count": 11,
   "metadata": {
    "scrolled": true
   },
   "outputs": [
    {
     "data": {
      "text/html": [
       "<div>\n",
       "<style scoped>\n",
       "    .dataframe tbody tr th:only-of-type {\n",
       "        vertical-align: middle;\n",
       "    }\n",
       "\n",
       "    .dataframe tbody tr th {\n",
       "        vertical-align: top;\n",
       "    }\n",
       "\n",
       "    .dataframe thead th {\n",
       "        text-align: right;\n",
       "    }\n",
       "</style>\n",
       "<table border=\"1\" class=\"dataframe\">\n",
       "  <thead>\n",
       "    <tr style=\"text-align: right;\">\n",
       "      <th></th>\n",
       "      <th>App</th>\n",
       "      <th>Category</th>\n",
       "      <th>Rating</th>\n",
       "      <th>Reviews</th>\n",
       "      <th>Size</th>\n",
       "      <th>Installs</th>\n",
       "      <th>Type</th>\n",
       "      <th>Price</th>\n",
       "      <th>Content Rating</th>\n",
       "      <th>Genres</th>\n",
       "      <th>Last Updated</th>\n",
       "      <th>Current Ver</th>\n",
       "      <th>Android Ver</th>\n",
       "    </tr>\n",
       "  </thead>\n",
       "  <tbody>\n",
       "    <tr>\n",
       "      <th>1407</th>\n",
       "      <td>10 Best Foods for You</td>\n",
       "      <td>HEALTH_AND_FITNESS</td>\n",
       "      <td>4.0</td>\n",
       "      <td>2490</td>\n",
       "      <td>3.8M</td>\n",
       "      <td>500,000+</td>\n",
       "      <td>Free</td>\n",
       "      <td>0</td>\n",
       "      <td>Everyone 10+</td>\n",
       "      <td>Health &amp; Fitness</td>\n",
       "      <td>February 17, 2017</td>\n",
       "      <td>1.9</td>\n",
       "      <td>2.3.3 and up</td>\n",
       "    </tr>\n",
       "    <tr>\n",
       "      <th>2543</th>\n",
       "      <td>1800 Contacts - Lens Store</td>\n",
       "      <td>MEDICAL</td>\n",
       "      <td>4.7</td>\n",
       "      <td>23160</td>\n",
       "      <td>26M</td>\n",
       "      <td>1,000,000+</td>\n",
       "      <td>Free</td>\n",
       "      <td>0</td>\n",
       "      <td>Everyone</td>\n",
       "      <td>Medical</td>\n",
       "      <td>July 27, 2018</td>\n",
       "      <td>7.4.1</td>\n",
       "      <td>5.0 and up</td>\n",
       "    </tr>\n",
       "    <tr>\n",
       "      <th>2385</th>\n",
       "      <td>2017 EMRA Antibiotic Guide</td>\n",
       "      <td>MEDICAL</td>\n",
       "      <td>4.4</td>\n",
       "      <td>12</td>\n",
       "      <td>3.8M</td>\n",
       "      <td>1,000+</td>\n",
       "      <td>Paid</td>\n",
       "      <td>$16.99</td>\n",
       "      <td>Everyone</td>\n",
       "      <td>Medical</td>\n",
       "      <td>January 27, 2017</td>\n",
       "      <td>1.0.5</td>\n",
       "      <td>4.0.3 and up</td>\n",
       "    </tr>\n",
       "    <tr>\n",
       "      <th>1434</th>\n",
       "      <td>21-Day Meditation Experience</td>\n",
       "      <td>HEALTH_AND_FITNESS</td>\n",
       "      <td>4.4</td>\n",
       "      <td>11506</td>\n",
       "      <td>15M</td>\n",
       "      <td>100,000+</td>\n",
       "      <td>Free</td>\n",
       "      <td>0</td>\n",
       "      <td>Everyone</td>\n",
       "      <td>Health &amp; Fitness</td>\n",
       "      <td>August 2, 2018</td>\n",
       "      <td>3.0.0</td>\n",
       "      <td>4.1 and up</td>\n",
       "    </tr>\n",
       "    <tr>\n",
       "      <th>5415</th>\n",
       "      <td>365Scores - Live Scores</td>\n",
       "      <td>SPORTS</td>\n",
       "      <td>4.6</td>\n",
       "      <td>666246</td>\n",
       "      <td>25M</td>\n",
       "      <td>10,000,000+</td>\n",
       "      <td>Free</td>\n",
       "      <td>0</td>\n",
       "      <td>Everyone</td>\n",
       "      <td>Sports</td>\n",
       "      <td>July 29, 2018</td>\n",
       "      <td>5.5.9</td>\n",
       "      <td>4.1 and up</td>\n",
       "    </tr>\n",
       "    <tr>\n",
       "      <th>...</th>\n",
       "      <td>...</td>\n",
       "      <td>...</td>\n",
       "      <td>...</td>\n",
       "      <td>...</td>\n",
       "      <td>...</td>\n",
       "      <td>...</td>\n",
       "      <td>...</td>\n",
       "      <td>...</td>\n",
       "      <td>...</td>\n",
       "      <td>...</td>\n",
       "      <td>...</td>\n",
       "      <td>...</td>\n",
       "      <td>...</td>\n",
       "    </tr>\n",
       "    <tr>\n",
       "      <th>3055</th>\n",
       "      <td>theScore: Live Sports Scores, News, Stats &amp; Vi...</td>\n",
       "      <td>SPORTS</td>\n",
       "      <td>4.4</td>\n",
       "      <td>133833</td>\n",
       "      <td>34M</td>\n",
       "      <td>10,000,000+</td>\n",
       "      <td>Free</td>\n",
       "      <td>0</td>\n",
       "      <td>Everyone 10+</td>\n",
       "      <td>Sports</td>\n",
       "      <td>July 25, 2018</td>\n",
       "      <td>6.17.2</td>\n",
       "      <td>4.4 and up</td>\n",
       "    </tr>\n",
       "    <tr>\n",
       "      <th>3014</th>\n",
       "      <td>theScore: Live Sports Scores, News, Stats &amp; Vi...</td>\n",
       "      <td>SPORTS</td>\n",
       "      <td>4.4</td>\n",
       "      <td>133825</td>\n",
       "      <td>34M</td>\n",
       "      <td>10,000,000+</td>\n",
       "      <td>Free</td>\n",
       "      <td>0</td>\n",
       "      <td>Everyone 10+</td>\n",
       "      <td>Sports</td>\n",
       "      <td>July 25, 2018</td>\n",
       "      <td>6.17.2</td>\n",
       "      <td>4.4 and up</td>\n",
       "    </tr>\n",
       "    <tr>\n",
       "      <th>3202</th>\n",
       "      <td>trivago: Hotels &amp; Travel</td>\n",
       "      <td>TRAVEL_AND_LOCAL</td>\n",
       "      <td>4.2</td>\n",
       "      <td>219848</td>\n",
       "      <td>Varies with device</td>\n",
       "      <td>50,000,000+</td>\n",
       "      <td>Free</td>\n",
       "      <td>0</td>\n",
       "      <td>Everyone</td>\n",
       "      <td>Travel &amp; Local</td>\n",
       "      <td>August 2, 2018</td>\n",
       "      <td>Varies with device</td>\n",
       "      <td>Varies with device</td>\n",
       "    </tr>\n",
       "    <tr>\n",
       "      <th>3118</th>\n",
       "      <td>trivago: Hotels &amp; Travel</td>\n",
       "      <td>TRAVEL_AND_LOCAL</td>\n",
       "      <td>4.2</td>\n",
       "      <td>219848</td>\n",
       "      <td>Varies with device</td>\n",
       "      <td>50,000,000+</td>\n",
       "      <td>Free</td>\n",
       "      <td>0</td>\n",
       "      <td>Everyone</td>\n",
       "      <td>Travel &amp; Local</td>\n",
       "      <td>August 2, 2018</td>\n",
       "      <td>Varies with device</td>\n",
       "      <td>Varies with device</td>\n",
       "    </tr>\n",
       "    <tr>\n",
       "      <th>8291</th>\n",
       "      <td>wetter.com - Weather and Radar</td>\n",
       "      <td>WEATHER</td>\n",
       "      <td>4.2</td>\n",
       "      <td>189310</td>\n",
       "      <td>38M</td>\n",
       "      <td>10,000,000+</td>\n",
       "      <td>Free</td>\n",
       "      <td>0</td>\n",
       "      <td>Everyone</td>\n",
       "      <td>Weather</td>\n",
       "      <td>August 6, 2018</td>\n",
       "      <td>Varies with device</td>\n",
       "      <td>Varies with device</td>\n",
       "    </tr>\n",
       "  </tbody>\n",
       "</table>\n",
       "<p>1181 rows × 13 columns</p>\n",
       "</div>"
      ],
      "text/plain": [
       "                                                    App            Category  \\\n",
       "1407                              10 Best Foods for You  HEALTH_AND_FITNESS   \n",
       "2543                         1800 Contacts - Lens Store             MEDICAL   \n",
       "2385                         2017 EMRA Antibiotic Guide             MEDICAL   \n",
       "1434                       21-Day Meditation Experience  HEALTH_AND_FITNESS   \n",
       "5415                            365Scores - Live Scores              SPORTS   \n",
       "...                                                 ...                 ...   \n",
       "3055  theScore: Live Sports Scores, News, Stats & Vi...              SPORTS   \n",
       "3014  theScore: Live Sports Scores, News, Stats & Vi...              SPORTS   \n",
       "3202                           trivago: Hotels & Travel    TRAVEL_AND_LOCAL   \n",
       "3118                           trivago: Hotels & Travel    TRAVEL_AND_LOCAL   \n",
       "8291                     wetter.com - Weather and Radar             WEATHER   \n",
       "\n",
       "      Rating Reviews                Size     Installs  Type   Price  \\\n",
       "1407     4.0    2490                3.8M     500,000+  Free       0   \n",
       "2543     4.7   23160                 26M   1,000,000+  Free       0   \n",
       "2385     4.4      12                3.8M       1,000+  Paid  $16.99   \n",
       "1434     4.4   11506                 15M     100,000+  Free       0   \n",
       "5415     4.6  666246                 25M  10,000,000+  Free       0   \n",
       "...      ...     ...                 ...          ...   ...     ...   \n",
       "3055     4.4  133833                 34M  10,000,000+  Free       0   \n",
       "3014     4.4  133825                 34M  10,000,000+  Free       0   \n",
       "3202     4.2  219848  Varies with device  50,000,000+  Free       0   \n",
       "3118     4.2  219848  Varies with device  50,000,000+  Free       0   \n",
       "8291     4.2  189310                 38M  10,000,000+  Free       0   \n",
       "\n",
       "     Content Rating            Genres       Last Updated         Current Ver  \\\n",
       "1407   Everyone 10+  Health & Fitness  February 17, 2017                 1.9   \n",
       "2543       Everyone           Medical      July 27, 2018               7.4.1   \n",
       "2385       Everyone           Medical   January 27, 2017               1.0.5   \n",
       "1434       Everyone  Health & Fitness     August 2, 2018               3.0.0   \n",
       "5415       Everyone            Sports      July 29, 2018               5.5.9   \n",
       "...             ...               ...                ...                 ...   \n",
       "3055   Everyone 10+            Sports      July 25, 2018              6.17.2   \n",
       "3014   Everyone 10+            Sports      July 25, 2018              6.17.2   \n",
       "3202       Everyone    Travel & Local     August 2, 2018  Varies with device   \n",
       "3118       Everyone    Travel & Local     August 2, 2018  Varies with device   \n",
       "8291       Everyone           Weather     August 6, 2018  Varies with device   \n",
       "\n",
       "             Android Ver  \n",
       "1407        2.3.3 and up  \n",
       "2543          5.0 and up  \n",
       "2385        4.0.3 and up  \n",
       "1434          4.1 and up  \n",
       "5415          4.1 and up  \n",
       "...                  ...  \n",
       "3055          4.4 and up  \n",
       "3014          4.4 and up  \n",
       "3202  Varies with device  \n",
       "3118  Varies with device  \n",
       "8291  Varies with device  \n",
       "\n",
       "[1181 rows x 13 columns]"
      ]
     },
     "execution_count": 11,
     "metadata": {},
     "output_type": "execute_result"
    }
   ],
   "source": [
    "GPS[duplicated_gps].sort_values(by = 'App')"
   ]
  },
  {
   "cell_type": "code",
   "execution_count": 12,
   "metadata": {},
   "outputs": [],
   "source": [
    "def count_duplicates_dataframe(dataframe, column_name):\n",
    "    unique_apps = set()\n",
    "    duplicates = 0\n",
    "\n",
    "    for app_name in dataframe[column_name][1:]:  # Skip the header row\n",
    "        if app_name in unique_apps:\n",
    "            duplicates += 1\n",
    "        else:\n",
    "            unique_apps.add(app_name)\n",
    "\n",
    "    return duplicates"
   ]
  },
  {
   "cell_type": "code",
   "execution_count": 13,
   "metadata": {},
   "outputs": [
    {
     "name": "stdout",
     "output_type": "stream",
     "text": [
      "Number of duplicates in the Google Play dataset: 1181\n"
     ]
    }
   ],
   "source": [
    "# Count the number of duplicates in the 'App' column\n",
    "duplicates_count = count_duplicates_dataframe(GPS, 'App')\n",
    "\n",
    "# Print the result\n",
    "print(f\"Number of duplicates in the Google Play dataset: {duplicates_count}\")"
   ]
  },
  {
   "cell_type": "markdown",
   "metadata": {},
   "source": [
    "5. Remove duplicates ..."
   ]
  },
  {
   "cell_type": "markdown",
   "metadata": {},
   "source": [
    "5. a. Create a dictionary, where each dictionary key is a unique app name and the corresponding dictionary value is the highest number of reviews of that app"
   ]
  },
  {
   "cell_type": "code",
   "execution_count": 14,
   "metadata": {
    "scrolled": false
   },
   "outputs": [],
   "source": [
    "def create_reviews_dict(file_path):\n",
    "    # Read the Google Play dataset into a DataFrame\n",
    "    googleplay_df = pd.read_csv(file_path)\n",
    "\n",
    "    # Create a dictionary to store the highest number of reviews for each app\n",
    "    reviews_dict = {}\n",
    "\n",
    "    # Iterate through the DataFrame to update the dictionary\n",
    "    for index, row in googleplay_df.iterrows():\n",
    "        app_name = row['App']\n",
    "        reviews_str = row['Reviews']\n",
    "\n",
    "        # Exclude non-numeric values and handle 'M' suffix\n",
    "        if reviews_str and (reviews_str.isnumeric() or (reviews_str[:-1].replace('.', '').isnumeric() and reviews_str[-1] == 'M')):\n",
    "            if 'M' in reviews_str:\n",
    "                num_reviews = float(reviews_str[:-1]) * 1e6  # Convert 'M' to million\n",
    "            else:\n",
    "                num_reviews = float(reviews_str)\n",
    "        else:\n",
    "            continue  # Skip this row if 'Reviews' is not numeric or empty\n",
    "\n",
    "        # Update the dictionary if the app is not present or if the current number of reviews is higher\n",
    "        if app_name not in reviews_dict or num_reviews > reviews_dict[app_name]:\n",
    "            reviews_dict[app_name] = num_reviews\n",
    "\n",
    "    return reviews_dict\n",
    "\n",
    "# Specify the file path for the Google Play dataset\n",
    "googleplay_dataset_path = 'googleplaystore.csv'\n",
    "\n",
    "# Create the dictionary using the function\n",
    "reviews_dict = create_reviews_dict(googleplay_dataset_path)"
   ]
  },
  {
   "cell_type": "markdown",
   "metadata": {},
   "source": [
    "5. b. Use the information stored in the dictionary and create a new dataset, which will have only one entry per app (and for each app, we'll only select the entry with the highest number of reviews)."
   ]
  },
  {
   "cell_type": "code",
   "execution_count": 15,
   "metadata": {},
   "outputs": [],
   "source": [
    "df_reviews = pd.DataFrame(list(reviews_dict.items()), columns=['App', 'Max_Reviews'])"
   ]
  },
  {
   "cell_type": "markdown",
   "metadata": {},
   "source": [
    "5. c. Explore the cleaned dataset, it should have 9,659 rows"
   ]
  },
  {
   "cell_type": "code",
   "execution_count": 16,
   "metadata": {},
   "outputs": [
    {
     "data": {
      "text/html": [
       "<div>\n",
       "<style scoped>\n",
       "    .dataframe tbody tr th:only-of-type {\n",
       "        vertical-align: middle;\n",
       "    }\n",
       "\n",
       "    .dataframe tbody tr th {\n",
       "        vertical-align: top;\n",
       "    }\n",
       "\n",
       "    .dataframe thead th {\n",
       "        text-align: right;\n",
       "    }\n",
       "</style>\n",
       "<table border=\"1\" class=\"dataframe\">\n",
       "  <thead>\n",
       "    <tr style=\"text-align: right;\">\n",
       "      <th></th>\n",
       "      <th>App</th>\n",
       "      <th>Max_Reviews</th>\n",
       "    </tr>\n",
       "  </thead>\n",
       "  <tbody>\n",
       "    <tr>\n",
       "      <th>0</th>\n",
       "      <td>Photo Editor &amp; Candy Camera &amp; Grid &amp; ScrapBook</td>\n",
       "      <td>159.0</td>\n",
       "    </tr>\n",
       "    <tr>\n",
       "      <th>1</th>\n",
       "      <td>Coloring book moana</td>\n",
       "      <td>974.0</td>\n",
       "    </tr>\n",
       "    <tr>\n",
       "      <th>2</th>\n",
       "      <td>U Launcher Lite – FREE Live Cool Themes, Hide ...</td>\n",
       "      <td>87510.0</td>\n",
       "    </tr>\n",
       "    <tr>\n",
       "      <th>3</th>\n",
       "      <td>Sketch - Draw &amp; Paint</td>\n",
       "      <td>215644.0</td>\n",
       "    </tr>\n",
       "    <tr>\n",
       "      <th>4</th>\n",
       "      <td>Pixel Draw - Number Art Coloring Book</td>\n",
       "      <td>967.0</td>\n",
       "    </tr>\n",
       "    <tr>\n",
       "      <th>...</th>\n",
       "      <td>...</td>\n",
       "      <td>...</td>\n",
       "    </tr>\n",
       "    <tr>\n",
       "      <th>9655</th>\n",
       "      <td>Sya9a Maroc - FR</td>\n",
       "      <td>38.0</td>\n",
       "    </tr>\n",
       "    <tr>\n",
       "      <th>9656</th>\n",
       "      <td>Fr. Mike Schmitz Audio Teachings</td>\n",
       "      <td>4.0</td>\n",
       "    </tr>\n",
       "    <tr>\n",
       "      <th>9657</th>\n",
       "      <td>Parkinson Exercices FR</td>\n",
       "      <td>3.0</td>\n",
       "    </tr>\n",
       "    <tr>\n",
       "      <th>9658</th>\n",
       "      <td>The SCP Foundation DB fr nn5n</td>\n",
       "      <td>114.0</td>\n",
       "    </tr>\n",
       "    <tr>\n",
       "      <th>9659</th>\n",
       "      <td>iHoroscope - 2018 Daily Horoscope &amp; Astrology</td>\n",
       "      <td>398307.0</td>\n",
       "    </tr>\n",
       "  </tbody>\n",
       "</table>\n",
       "<p>9660 rows × 2 columns</p>\n",
       "</div>"
      ],
      "text/plain": [
       "                                                    App  Max_Reviews\n",
       "0        Photo Editor & Candy Camera & Grid & ScrapBook        159.0\n",
       "1                                   Coloring book moana        974.0\n",
       "2     U Launcher Lite – FREE Live Cool Themes, Hide ...      87510.0\n",
       "3                                 Sketch - Draw & Paint     215644.0\n",
       "4                 Pixel Draw - Number Art Coloring Book        967.0\n",
       "...                                                 ...          ...\n",
       "9655                                   Sya9a Maroc - FR         38.0\n",
       "9656                   Fr. Mike Schmitz Audio Teachings          4.0\n",
       "9657                             Parkinson Exercices FR          3.0\n",
       "9658                      The SCP Foundation DB fr nn5n        114.0\n",
       "9659      iHoroscope - 2018 Daily Horoscope & Astrology     398307.0\n",
       "\n",
       "[9660 rows x 2 columns]"
      ]
     },
     "execution_count": 16,
     "metadata": {},
     "output_type": "execute_result"
    }
   ],
   "source": [
    "df_reviews"
   ]
  },
  {
   "cell_type": "markdown",
   "metadata": {},
   "source": [
    "6. Remove non-english apps from both Android and Apple datasets. You should write a function that takes a string, if there's more than three characters that fall outside the ASCII range (0 - 127), then the function should return False (identify the string as non-English), otherwise it should return True. Hint: use the [```ord()```  function](https://www.w3schools.com/python/ref_func_ord.asp)"
   ]
  },
  {
   "cell_type": "code",
   "execution_count": 17,
   "metadata": {},
   "outputs": [],
   "source": [
    "# For instance\n",
    "correct_english_name = \"Instachat 😜\"  # 1 character outside the ASCII range (😜)\n",
    "incorrect_english_name = \"爱奇艺PPS -《欢乐颂2》电视剧热播\" # 13 character outside the ASCII range (ie 播)"
   ]
  },
  {
   "cell_type": "code",
   "execution_count": 18,
   "metadata": {},
   "outputs": [
    {
     "name": "stdout",
     "output_type": "stream",
     "text": [
      "73\n",
      "116\n",
      "45\n",
      "128540\n",
      "29233\n"
     ]
    }
   ],
   "source": [
    "print(ord(\"I\"))\n",
    "print(ord(\"t\"))\n",
    "print(ord(\"-\"))\n",
    "print(ord(\"😜\"))\n",
    "print(ord(\"爱\"))"
   ]
  },
  {
   "cell_type": "code",
   "execution_count": 14,
   "metadata": {
    "scrolled": true
   },
   "outputs": [],
   "source": [
    "# Solution\n",
    "def is_english(string):\n",
    "    non_ascii_count = 0\n",
    "    for char in string:\n",
    "        if ord(char) > 127:\n",
    "            non_ascii_count += 1\n",
    "            if non_ascii_count > 3:\n",
    "                return False\n",
    "    return True\n",
    "\n",
    "def filter_english_apps(dataset, name_column):\n",
    "    return dataset[dataset[name_column].apply(is_english)]"
   ]
  },
  {
   "cell_type": "code",
   "execution_count": 4,
   "metadata": {},
   "outputs": [
    {
     "name": "stdout",
     "output_type": "stream",
     "text": [
      "Number of rows Android 'english Apps':  10796\n",
      "Number of columns Android 'english Apps':  13\n",
      "Android Dataset - English Apps Only:\n"
     ]
    },
    {
     "data": {
      "text/html": [
       "<div>\n",
       "<style scoped>\n",
       "    .dataframe tbody tr th:only-of-type {\n",
       "        vertical-align: middle;\n",
       "    }\n",
       "\n",
       "    .dataframe tbody tr th {\n",
       "        vertical-align: top;\n",
       "    }\n",
       "\n",
       "    .dataframe thead th {\n",
       "        text-align: right;\n",
       "    }\n",
       "</style>\n",
       "<table border=\"1\" class=\"dataframe\">\n",
       "  <thead>\n",
       "    <tr style=\"text-align: right;\">\n",
       "      <th></th>\n",
       "      <th>App</th>\n",
       "      <th>Category</th>\n",
       "      <th>Rating</th>\n",
       "      <th>Reviews</th>\n",
       "      <th>Size</th>\n",
       "      <th>Installs</th>\n",
       "      <th>Type</th>\n",
       "      <th>Price</th>\n",
       "      <th>Content Rating</th>\n",
       "      <th>Genres</th>\n",
       "      <th>Last Updated</th>\n",
       "      <th>Current Ver</th>\n",
       "      <th>Android Ver</th>\n",
       "    </tr>\n",
       "  </thead>\n",
       "  <tbody>\n",
       "    <tr>\n",
       "      <th>0</th>\n",
       "      <td>Photo Editor &amp; Candy Camera &amp; Grid &amp; ScrapBook</td>\n",
       "      <td>ART_AND_DESIGN</td>\n",
       "      <td>4.1</td>\n",
       "      <td>159</td>\n",
       "      <td>19M</td>\n",
       "      <td>10,000+</td>\n",
       "      <td>Free</td>\n",
       "      <td>0</td>\n",
       "      <td>Everyone</td>\n",
       "      <td>Art &amp; Design</td>\n",
       "      <td>January 7, 2018</td>\n",
       "      <td>1.0.0</td>\n",
       "      <td>4.0.3 and up</td>\n",
       "    </tr>\n",
       "    <tr>\n",
       "      <th>1</th>\n",
       "      <td>Coloring book moana</td>\n",
       "      <td>ART_AND_DESIGN</td>\n",
       "      <td>3.9</td>\n",
       "      <td>967</td>\n",
       "      <td>14M</td>\n",
       "      <td>500,000+</td>\n",
       "      <td>Free</td>\n",
       "      <td>0</td>\n",
       "      <td>Everyone</td>\n",
       "      <td>Art &amp; Design;Pretend Play</td>\n",
       "      <td>January 15, 2018</td>\n",
       "      <td>2.0.0</td>\n",
       "      <td>4.0.3 and up</td>\n",
       "    </tr>\n",
       "    <tr>\n",
       "      <th>2</th>\n",
       "      <td>U Launcher Lite – FREE Live Cool Themes, Hide ...</td>\n",
       "      <td>ART_AND_DESIGN</td>\n",
       "      <td>4.7</td>\n",
       "      <td>87510</td>\n",
       "      <td>8.7M</td>\n",
       "      <td>5,000,000+</td>\n",
       "      <td>Free</td>\n",
       "      <td>0</td>\n",
       "      <td>Everyone</td>\n",
       "      <td>Art &amp; Design</td>\n",
       "      <td>August 1, 2018</td>\n",
       "      <td>1.2.4</td>\n",
       "      <td>4.0.3 and up</td>\n",
       "    </tr>\n",
       "    <tr>\n",
       "      <th>3</th>\n",
       "      <td>Sketch - Draw &amp; Paint</td>\n",
       "      <td>ART_AND_DESIGN</td>\n",
       "      <td>4.5</td>\n",
       "      <td>215644</td>\n",
       "      <td>25M</td>\n",
       "      <td>50,000,000+</td>\n",
       "      <td>Free</td>\n",
       "      <td>0</td>\n",
       "      <td>Teen</td>\n",
       "      <td>Art &amp; Design</td>\n",
       "      <td>June 8, 2018</td>\n",
       "      <td>Varies with device</td>\n",
       "      <td>4.2 and up</td>\n",
       "    </tr>\n",
       "    <tr>\n",
       "      <th>4</th>\n",
       "      <td>Pixel Draw - Number Art Coloring Book</td>\n",
       "      <td>ART_AND_DESIGN</td>\n",
       "      <td>4.3</td>\n",
       "      <td>967</td>\n",
       "      <td>2.8M</td>\n",
       "      <td>100,000+</td>\n",
       "      <td>Free</td>\n",
       "      <td>0</td>\n",
       "      <td>Everyone</td>\n",
       "      <td>Art &amp; Design;Creativity</td>\n",
       "      <td>June 20, 2018</td>\n",
       "      <td>1.1</td>\n",
       "      <td>4.4 and up</td>\n",
       "    </tr>\n",
       "  </tbody>\n",
       "</table>\n",
       "</div>"
      ],
      "text/plain": [
       "                                                 App        Category  Rating  \\\n",
       "0     Photo Editor & Candy Camera & Grid & ScrapBook  ART_AND_DESIGN     4.1   \n",
       "1                                Coloring book moana  ART_AND_DESIGN     3.9   \n",
       "2  U Launcher Lite – FREE Live Cool Themes, Hide ...  ART_AND_DESIGN     4.7   \n",
       "3                              Sketch - Draw & Paint  ART_AND_DESIGN     4.5   \n",
       "4              Pixel Draw - Number Art Coloring Book  ART_AND_DESIGN     4.3   \n",
       "\n",
       "  Reviews  Size     Installs  Type Price Content Rating  \\\n",
       "0     159   19M      10,000+  Free     0       Everyone   \n",
       "1     967   14M     500,000+  Free     0       Everyone   \n",
       "2   87510  8.7M   5,000,000+  Free     0       Everyone   \n",
       "3  215644   25M  50,000,000+  Free     0           Teen   \n",
       "4     967  2.8M     100,000+  Free     0       Everyone   \n",
       "\n",
       "                      Genres      Last Updated         Current Ver  \\\n",
       "0               Art & Design   January 7, 2018               1.0.0   \n",
       "1  Art & Design;Pretend Play  January 15, 2018               2.0.0   \n",
       "2               Art & Design    August 1, 2018               1.2.4   \n",
       "3               Art & Design      June 8, 2018  Varies with device   \n",
       "4    Art & Design;Creativity     June 20, 2018                 1.1   \n",
       "\n",
       "    Android Ver  \n",
       "0  4.0.3 and up  \n",
       "1  4.0.3 and up  \n",
       "2  4.0.3 and up  \n",
       "3    4.2 and up  \n",
       "4    4.4 and up  "
      ]
     },
     "execution_count": 4,
     "metadata": {},
     "output_type": "execute_result"
    }
   ],
   "source": [
    "# Filter non-English apps from Android dataset\n",
    "android_df_english = filter_english_apps(GPS, 'App')\n",
    "print(\"Number of rows Android 'english Apps': \", android_df_english.shape[0])\n",
    "print(\"Number of columns Android 'english Apps': \", android_df_english.shape[1])\n",
    "# Print the filtered DataFrames\n",
    "print(\"Android Dataset - English Apps Only:\")\n",
    "android_df_english.head()"
   ]
  },
  {
   "cell_type": "code",
   "execution_count": 16,
   "metadata": {},
   "outputs": [
    {
     "name": "stdout",
     "output_type": "stream",
     "text": [
      "Number of rows Apple 'english Apps':  6183\n",
      "Number of columns Apple 'english Apps':  16\n",
      "Apple Dataset - English Apps Only:\n"
     ]
    },
    {
     "data": {
      "text/html": [
       "<div>\n",
       "<style scoped>\n",
       "    .dataframe tbody tr th:only-of-type {\n",
       "        vertical-align: middle;\n",
       "    }\n",
       "\n",
       "    .dataframe tbody tr th {\n",
       "        vertical-align: top;\n",
       "    }\n",
       "\n",
       "    .dataframe thead th {\n",
       "        text-align: right;\n",
       "    }\n",
       "</style>\n",
       "<table border=\"1\" class=\"dataframe\">\n",
       "  <thead>\n",
       "    <tr style=\"text-align: right;\">\n",
       "      <th></th>\n",
       "      <th>id</th>\n",
       "      <th>track_name</th>\n",
       "      <th>size_bytes</th>\n",
       "      <th>currency</th>\n",
       "      <th>price</th>\n",
       "      <th>rating_count_tot</th>\n",
       "      <th>rating_count_ver</th>\n",
       "      <th>user_rating</th>\n",
       "      <th>user_rating_ver</th>\n",
       "      <th>ver</th>\n",
       "      <th>cont_rating</th>\n",
       "      <th>prime_genre</th>\n",
       "      <th>sup_devices.num</th>\n",
       "      <th>ipadSc_urls.num</th>\n",
       "      <th>lang.num</th>\n",
       "      <th>vpp_lic</th>\n",
       "    </tr>\n",
       "  </thead>\n",
       "  <tbody>\n",
       "    <tr>\n",
       "      <th>0</th>\n",
       "      <td>284882215</td>\n",
       "      <td>Facebook</td>\n",
       "      <td>389879808</td>\n",
       "      <td>USD</td>\n",
       "      <td>0.0</td>\n",
       "      <td>2974676</td>\n",
       "      <td>212</td>\n",
       "      <td>3.5</td>\n",
       "      <td>3.5</td>\n",
       "      <td>95.0</td>\n",
       "      <td>4+</td>\n",
       "      <td>Social Networking</td>\n",
       "      <td>37</td>\n",
       "      <td>1</td>\n",
       "      <td>29</td>\n",
       "      <td>1</td>\n",
       "    </tr>\n",
       "    <tr>\n",
       "      <th>1</th>\n",
       "      <td>389801252</td>\n",
       "      <td>Instagram</td>\n",
       "      <td>113954816</td>\n",
       "      <td>USD</td>\n",
       "      <td>0.0</td>\n",
       "      <td>2161558</td>\n",
       "      <td>1289</td>\n",
       "      <td>4.5</td>\n",
       "      <td>4.0</td>\n",
       "      <td>10.23</td>\n",
       "      <td>12+</td>\n",
       "      <td>Photo &amp; Video</td>\n",
       "      <td>37</td>\n",
       "      <td>0</td>\n",
       "      <td>29</td>\n",
       "      <td>1</td>\n",
       "    </tr>\n",
       "    <tr>\n",
       "      <th>2</th>\n",
       "      <td>529479190</td>\n",
       "      <td>Clash of Clans</td>\n",
       "      <td>116476928</td>\n",
       "      <td>USD</td>\n",
       "      <td>0.0</td>\n",
       "      <td>2130805</td>\n",
       "      <td>579</td>\n",
       "      <td>4.5</td>\n",
       "      <td>4.5</td>\n",
       "      <td>9.24.12</td>\n",
       "      <td>9+</td>\n",
       "      <td>Games</td>\n",
       "      <td>38</td>\n",
       "      <td>5</td>\n",
       "      <td>18</td>\n",
       "      <td>1</td>\n",
       "    </tr>\n",
       "    <tr>\n",
       "      <th>3</th>\n",
       "      <td>420009108</td>\n",
       "      <td>Temple Run</td>\n",
       "      <td>65921024</td>\n",
       "      <td>USD</td>\n",
       "      <td>0.0</td>\n",
       "      <td>1724546</td>\n",
       "      <td>3842</td>\n",
       "      <td>4.5</td>\n",
       "      <td>4.0</td>\n",
       "      <td>1.6.2</td>\n",
       "      <td>9+</td>\n",
       "      <td>Games</td>\n",
       "      <td>40</td>\n",
       "      <td>5</td>\n",
       "      <td>1</td>\n",
       "      <td>1</td>\n",
       "    </tr>\n",
       "    <tr>\n",
       "      <th>4</th>\n",
       "      <td>284035177</td>\n",
       "      <td>Pandora - Music &amp; Radio</td>\n",
       "      <td>130242560</td>\n",
       "      <td>USD</td>\n",
       "      <td>0.0</td>\n",
       "      <td>1126879</td>\n",
       "      <td>3594</td>\n",
       "      <td>4.0</td>\n",
       "      <td>4.5</td>\n",
       "      <td>8.4.1</td>\n",
       "      <td>12+</td>\n",
       "      <td>Music</td>\n",
       "      <td>37</td>\n",
       "      <td>4</td>\n",
       "      <td>1</td>\n",
       "      <td>1</td>\n",
       "    </tr>\n",
       "  </tbody>\n",
       "</table>\n",
       "</div>"
      ],
      "text/plain": [
       "          id               track_name  size_bytes currency  price  \\\n",
       "0  284882215                 Facebook   389879808      USD    0.0   \n",
       "1  389801252                Instagram   113954816      USD    0.0   \n",
       "2  529479190           Clash of Clans   116476928      USD    0.0   \n",
       "3  420009108               Temple Run    65921024      USD    0.0   \n",
       "4  284035177  Pandora - Music & Radio   130242560      USD    0.0   \n",
       "\n",
       "   rating_count_tot  rating_count_ver  user_rating  user_rating_ver      ver  \\\n",
       "0           2974676               212          3.5              3.5     95.0   \n",
       "1           2161558              1289          4.5              4.0    10.23   \n",
       "2           2130805               579          4.5              4.5  9.24.12   \n",
       "3           1724546              3842          4.5              4.0    1.6.2   \n",
       "4           1126879              3594          4.0              4.5    8.4.1   \n",
       "\n",
       "  cont_rating        prime_genre  sup_devices.num  ipadSc_urls.num  lang.num  \\\n",
       "0          4+  Social Networking               37                1        29   \n",
       "1         12+      Photo & Video               37                0        29   \n",
       "2          9+              Games               38                5        18   \n",
       "3          9+              Games               40                5         1   \n",
       "4         12+              Music               37                4         1   \n",
       "\n",
       "   vpp_lic  \n",
       "0        1  \n",
       "1        1  \n",
       "2        1  \n",
       "3        1  \n",
       "4        1  "
      ]
     },
     "execution_count": 16,
     "metadata": {},
     "output_type": "execute_result"
    }
   ],
   "source": [
    "# Filter non-English apps from Apple dataset\n",
    "apple_df_english = filter_english_apps(AS, 'track_name')\n",
    "print(\"Number of rows Apple 'english Apps': \", apple_df_english.shape[0])\n",
    "print(\"Number of columns Apple 'english Apps': \", apple_df_english.shape[1])\n",
    "# Print the filtered DataFrames\n",
    "print(\"Apple Dataset - English Apps Only:\")\n",
    "apple_df_english.head()"
   ]
  },
  {
   "cell_type": "markdown",
   "metadata": {},
   "source": [
    "7. Loop through each dataset to isolate the free apps in separate lists. Make sure you identify the columns describing the app price correctly. Be careful, prices come up as strings ('0', $0.99, $2.99, etc.), so make sure you're not checking an integer or a float in your conditional statements. How many apps are free?"
   ]
  },
  {
   "cell_type": "code",
   "execution_count": 11,
   "metadata": {},
   "outputs": [],
   "source": [
    "def get_free_apps(dataset, price_column):\n",
    "    return dataset[dataset[price_column].apply(lambda x: x == '0' or x == '0.0')]"
   ]
  },
  {
   "cell_type": "code",
   "execution_count": 12,
   "metadata": {},
   "outputs": [
    {
     "name": "stdout",
     "output_type": "stream",
     "text": [
      "Number of free apps in the Android dataset: 10040\n",
      "Number of free apps in the Apple dataset: 0\n"
     ]
    }
   ],
   "source": [
    "# Identify the correct columns describing the app price\n",
    "android_price_column = 'Price'\n",
    "apple_price_column = 'price'\n",
    "\n",
    "# Isolate free apps in separate lists\n",
    "android_free_apps = get_free_apps(GPS, android_price_column)\n",
    "apple_free_apps = get_free_apps(AS, apple_price_column)\n",
    "\n",
    "# Count the number of free apps\n",
    "num_android_free_apps = len(android_free_apps)\n",
    "num_apple_free_apps = len(apple_free_apps)\n",
    "\n",
    "# Print the results\n",
    "print(f\"Number of free apps in the Android dataset: {num_android_free_apps}\")\n",
    "print(f\"Number of free apps in the Apple dataset: {num_apple_free_apps}\")"
   ]
  },
  {
   "cell_type": "code",
   "execution_count": 22,
   "metadata": {},
   "outputs": [
    {
     "name": "stdout",
     "output_type": "stream",
     "text": [
      "<class 'numpy.float64'>\n"
     ]
    }
   ],
   "source": [
    "print(type(AS[\"price\"][0])) # Since it´s a number, you should use numbers instead of strings for the loop in Apple"
   ]
  },
  {
   "cell_type": "code",
   "execution_count": 23,
   "metadata": {},
   "outputs": [],
   "source": [
    "# Grading: -1"
   ]
  },
  {
   "cell_type": "markdown",
   "metadata": {},
   "source": [
    "## Exploring data"
   ]
  },
  {
   "cell_type": "markdown",
   "metadata": {},
   "source": [
    " 8. Build a frequency table for the ```prime_genre``` column of the App Store dataset, and the ```Genres``` and ```Category``` columns of the Google Play data set. What are the most common genres for each market? You must develop and deploy your function"
   ]
  },
  {
   "cell_type": "code",
   "execution_count": 24,
   "metadata": {},
   "outputs": [],
   "source": [
    "def build_frequency_table_with_percentage(dataset, column):\n",
    "    # Build the frequency table\n",
    "    frequency_table = dataset[column].value_counts()\n",
    "\n",
    "    # Calculate the percentage\n",
    "    total_apps = len(dataset)\n",
    "    percentage = (frequency_table / total_apps) * 100\n",
    "\n",
    "    # Create a new DataFrame with count and percentage\n",
    "    result_df = pd.DataFrame({'Count': frequency_table, 'Percentage': percentage})\n",
    "\n",
    "    return result_df"
   ]
  },
  {
   "cell_type": "code",
   "execution_count": 25,
   "metadata": {},
   "outputs": [
    {
     "name": "stdout",
     "output_type": "stream",
     "text": [
      "Most common genres in the Google Play dataset (Genres):\n",
      "\n",
      "                   Count  Percentage\n",
      "Tools                842    7.767528\n",
      "Entertainment        623    5.747232\n",
      "Education            549    5.064576\n",
      "Medical              463    4.271218\n",
      "Business             460    4.243542\n",
      "Productivity         424    3.911439\n",
      "Sports               398    3.671587\n",
      "Personalization      392    3.616236\n",
      "Communication        387    3.570111\n",
      "Lifestyle            381    3.514760\n",
      "Finance              366    3.376384\n",
      "Action               365    3.367159\n",
      "Health & Fitness     341    3.145756\n",
      "Photography          335    3.090406\n",
      "Social               295    2.721402\n",
      "News & Magazines     283    2.610701\n",
      "Shopping             260    2.398524\n",
      "Travel & Local       257    2.370849\n",
      "Dating               234    2.158672\n",
      "Books & Reference    231    2.130996\n",
      "\n",
      "Most common categories in the Google Play dataset (Category):\n",
      "\n",
      "                     Count  Percentage\n",
      "FAMILY                1972   18.191882\n",
      "GAME                  1144   10.553506\n",
      "TOOLS                  843    7.776753\n",
      "MEDICAL                463    4.271218\n",
      "BUSINESS               460    4.243542\n",
      "PRODUCTIVITY           424    3.911439\n",
      "PERSONALIZATION        392    3.616236\n",
      "COMMUNICATION          387    3.570111\n",
      "SPORTS                 384    3.542435\n",
      "LIFESTYLE              382    3.523985\n",
      "FINANCE                366    3.376384\n",
      "HEALTH_AND_FITNESS     341    3.145756\n",
      "PHOTOGRAPHY            335    3.090406\n",
      "SOCIAL                 295    2.721402\n",
      "NEWS_AND_MAGAZINES     283    2.610701\n",
      "SHOPPING               260    2.398524\n",
      "TRAVEL_AND_LOCAL       258    2.380074\n",
      "DATING                 234    2.158672\n",
      "BOOKS_AND_REFERENCE    231    2.130996\n",
      "VIDEO_PLAYERS          175    1.614391\n",
      "\n",
      "Most common genres in the App Store dataset (prime_genre):\n",
      "\n",
      "                   Count  Percentage\n",
      "Games               3862   53.661248\n",
      "Entertainment        535    7.433653\n",
      "Education            453    6.294289\n",
      "Photo & Video        349    4.849243\n",
      "Utilities            248    3.445880\n",
      "Health & Fitness     180    2.501042\n",
      "Productivity         178    2.473253\n",
      "Social Networking    167    2.320411\n",
      "Lifestyle            144    2.000834\n",
      "Music                138    1.917466\n",
      "Shopping             122    1.695151\n",
      "Sports               114    1.583993\n",
      "Book                 112    1.556204\n",
      "Finance              104    1.445047\n",
      "Travel                81    1.125469\n",
      "News                  75    1.042101\n",
      "Weather               72    1.000417\n",
      "Reference             64    0.889259\n",
      "Food & Drink          63    0.875365\n",
      "Business              57    0.791997\n"
     ]
    }
   ],
   "source": [
    "# Build frequency tables with percentage\n",
    "android_genres_frequency = build_frequency_table_with_percentage(GPS, 'Genres')\n",
    "android_category_frequency = build_frequency_table_with_percentage(GPS, 'Category')\n",
    "apple_prime_genre_frequency = build_frequency_table_with_percentage(AS, 'prime_genre')\n",
    "\n",
    "# Print the most common genres for each market with percentage\n",
    "print(f\"Most common genres in the Google Play dataset (Genres):\\n\\n{android_genres_frequency.head(20)}\")\n",
    "print(f\"\\nMost common categories in the Google Play dataset (Category):\\n\\n{android_category_frequency.head(20)}\")\n",
    "print(f\"\\nMost common genres in the App Store dataset (prime_genre):\\n\\n{apple_prime_genre_frequency.head(20)}\")"
   ]
  },
  {
   "cell_type": "markdown",
   "metadata": {},
   "source": [
    " 9. One way to find out what genres are the most popular (have the most users) is to calculate the average number of installs for each app genre. Based on that exercise, give one app profile recommendation for Google Play.\n",
    " \n",
    "    For the Google Play data set, we can find the required information in the ```Installs``` column. Then, compute the average number of installs by genre. Hint 1: consider only unique values of the ```Category``` column. Hint 2: If an app has, for instance, ```1,000,000+``` assume it as ```1,000,000``` installs. Hint 3: Be careful with a skewed distribution"
   ]
  },
  {
   "cell_type": "code",
   "execution_count": 26,
   "metadata": {},
   "outputs": [],
   "source": [
    "def clean_installs(value):\n",
    "    # Remove '+' and ',' characters and convert to numeric\n",
    "    return int(value.replace(',', '').replace('+', ''))"
   ]
  },
  {
   "cell_type": "code",
   "execution_count": 27,
   "metadata": {},
   "outputs": [
    {
     "name": "stdout",
     "output_type": "stream",
     "text": [
      "Average number of installs by category:\n",
      "\n",
      "Category\n",
      "COMMUNICATION          8.435989e+07\n",
      "SOCIAL                 4.769447e+07\n",
      "VIDEO_PLAYERS          3.555430e+07\n",
      "PRODUCTIVITY           3.343418e+07\n",
      "GAME                   3.066960e+07\n",
      "PHOTOGRAPHY            3.011417e+07\n",
      "TRAVEL_AND_LOCAL       2.662359e+07\n",
      "NEWS_AND_MAGAZINES     2.648876e+07\n",
      "ENTERTAINMENT          1.925611e+07\n",
      "TOOLS                  1.358573e+07\n",
      "SHOPPING               1.249173e+07\n",
      "BOOKS_AND_REFERENCE    8.318050e+06\n",
      "PERSONALIZATION        5.932385e+06\n",
      "EDUCATION              5.586231e+06\n",
      "MAPS_AND_NAVIGATION    5.286729e+06\n",
      "FAMILY                 5.201959e+06\n",
      "WEATHER                5.196348e+06\n",
      "HEALTH_AND_FITNESS     4.642441e+06\n",
      "SPORTS                 4.560350e+06\n",
      "FINANCE                2.395215e+06\n",
      "BUSINESS               2.178076e+06\n",
      "FOOD_AND_DRINK         2.156683e+06\n",
      "HOUSE_AND_HOME         1.917187e+06\n",
      "ART_AND_DESIGN         1.912894e+06\n",
      "LIFESTYLE              1.407444e+06\n",
      "DATING                 1.129533e+06\n",
      "COMICS                 9.347692e+05\n",
      "LIBRARIES_AND_DEMO     7.411284e+05\n",
      "AUTO_AND_VEHICLES      6.250613e+05\n",
      "PARENTING              5.253518e+05\n",
      "BEAUTY                 5.131519e+05\n",
      "EVENTS                 2.495806e+05\n",
      "MEDICAL                1.150269e+05\n",
      "Name: Installs, dtype: float64\n",
      "\n",
      "Recommendation: Focus on creating apps in the 'COMMUNICATION' genre.\n"
     ]
    }
   ],
   "source": [
    "# Clean the 'Installs' column\n",
    "GPS['Installs'] = GPS['Installs'].apply(clean_installs)\n",
    "\n",
    "# Group by 'Category' and calculate the average number of installs\n",
    "average_installs_by_category =GPS.groupby('Category')['Installs'].mean()\n",
    "\n",
    "# Sort the results to identify the most popular genres\n",
    "sorted_average_installs = average_installs_by_category.sort_values(ascending=False)\n",
    "\n",
    "# Print the result\n",
    "print(f\"Average number of installs by category:\\n\\n{sorted_average_installs}\")\n",
    "\n",
    "# Recommend one app profile based on the most popular genre\n",
    "most_popular_genre = sorted_average_installs.idxmax()\n",
    "print(f\"\\nRecommendation: Focus on creating apps in the '{most_popular_genre}' genre.\")"
   ]
  },
  {
   "cell_type": "markdown",
   "metadata": {},
   "source": [
    " 10. The App Store dataset doesn´t have the ```installs``` information. Then, you will construct the average rating from the ```rating_count_tot``` column per genre. Based on that exercise, give one app profile recommendation for the App Store"
   ]
  },
  {
   "cell_type": "code",
   "execution_count": 28,
   "metadata": {},
   "outputs": [
    {
     "name": "stdout",
     "output_type": "stream",
     "text": [
      "Average rating by genre in the App Store dataset:\n",
      "\n",
      "prime_genre\n",
      "Social Networking    45498.898204\n",
      "Music                28842.021739\n",
      "Reference            22410.843750\n",
      "Weather              22181.027778\n",
      "Shopping             18615.327869\n",
      "Photo & Video        14352.280802\n",
      "Travel               14129.444444\n",
      "Sports               14026.929825\n",
      "Food & Drink         13938.619048\n",
      "Games                13691.996634\n",
      "News                 13015.066667\n",
      "Navigation           11853.956522\n",
      "Finance              11047.653846\n",
      "Health & Fitness      9913.172222\n",
      "Productivity          8051.325843\n",
      "Entertainment         7533.678505\n",
      "Utilities             6863.822581\n",
      "Lifestyle             6161.763889\n",
      "Book                  5125.437500\n",
      "Business              4788.087719\n",
      "Education             2239.229581\n",
      "Catalogs              1732.500000\n",
      "Medical                592.782609\n",
      "Name: rating_count_tot, dtype: float64\n",
      "\n",
      "Recommendation: Focus on creating apps in the 'Social Networking' genre.\n"
     ]
    }
   ],
   "source": [
    "# Group by 'prime_genre' and calculate the average rating\n",
    "average_rating_by_genre = AS.groupby('prime_genre')['rating_count_tot'].mean()\n",
    "\n",
    "# Sort the results to identify the genre with the highest average rating\n",
    "sorted_average_rating = average_rating_by_genre.sort_values(ascending=False)\n",
    "\n",
    "# Print the result\n",
    "print(f\"Average rating by genre in the App Store dataset:\\n\\n{sorted_average_rating}\")\n",
    "\n",
    "# Recommend one app profile based on the highest average rating\n",
    "highest_rated_genre = sorted_average_rating.idxmax()\n",
    "print(f\"\\nRecommendation: Focus on creating apps in the '{highest_rated_genre}' genre.\")"
   ]
  }
 ],
 "metadata": {
  "hide_input": false,
  "kernelspec": {
   "display_name": "Python 3 (ipykernel)",
   "language": "python",
   "name": "python3"
  },
  "language_info": {
   "codemirror_mode": {
    "name": "ipython",
    "version": 3
   },
   "file_extension": ".py",
   "mimetype": "text/x-python",
   "name": "python",
   "nbconvert_exporter": "python",
   "pygments_lexer": "ipython3",
   "version": "3.10.9"
  },
  "toc": {
   "base_numbering": 1,
   "nav_menu": {},
   "number_sections": true,
   "sideBar": true,
   "skip_h1_title": false,
   "title_cell": "Table of Contents",
   "title_sidebar": "Contents",
   "toc_cell": false,
   "toc_position": {},
   "toc_section_display": true,
   "toc_window_display": false
  }
 },
 "nbformat": 4,
 "nbformat_minor": 4
}
